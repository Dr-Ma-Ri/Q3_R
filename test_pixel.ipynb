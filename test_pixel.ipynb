{
  "nbformat": 4,
  "nbformat_minor": 0,
  "metadata": {
    "colab": {
      "provenance": [],
      "mount_file_id": "16t7C4yld-KGuqMXStEiAfKCc0bjRWsVY",
      "authorship_tag": "ABX9TyMuiP7iyP9zBgvExo9sWcoX",
      "include_colab_link": true
    },
    "kernelspec": {
      "name": "python3",
      "display_name": "Python 3"
    },
    "language_info": {
      "name": "python"
    }
  },
  "cells": [
    {
      "cell_type": "markdown",
      "metadata": {
        "id": "view-in-github",
        "colab_type": "text"
      },
      "source": [
        "<a href=\"https://colab.research.google.com/github/Dr-Ma-Ri/Q3_R/blob/main/test_pixel.ipynb\" target=\"_parent\"><img src=\"https://colab.research.google.com/assets/colab-badge.svg\" alt=\"Open In Colab\"/></a>"
      ]
    },
    {
      "cell_type": "markdown",
      "source": [
        "# **MR analysis: Conversion Pixel to cm**"
      ],
      "metadata": {
        "id": "uc7i5g5Bv5Bu"
      }
    },
    {
      "cell_type": "markdown",
      "source": [
        "To convert an area measured in pixels² to centimeters² (cm²) when you know the DPI (dots per inch) of your image:\n",
        "\n",
        "**Convert DPI to Pixels Per Centimeter**\n",
        "Convert the DPI to pixels per centimeter. Since 1 inch is approximately 2.54 centimeters,calculate the pixels per centimeter as follows:\n",
        "DPI (dots per inch) = 300\n",
        "\n",
        "Inches per centimeter = 1 / 2.54\n",
        "\n",
        "Pixels per centimeter = DPI * (1 / 2.54)\n",
        "\n",
        "Pixels per cm = 300 × 1 2.54 ≈ 118.11 pixels cm\n",
        "\n",
        "\n",
        "\n",
        "**Calculate the Conversion Factor for Area**\n",
        "\n",
        "Conversion factor for length =  1 cm / 118.11 pixels\n",
        "\n",
        "Conversion factor for area = (1 cm / 118.11 pixels)² ≈ 0.0000714 cm² /pixel²\n",
        "\n",
        "\n",
        "**Apply the Conversion**\n",
        "Convert the area from pixels² to cm² by multiplying the area in pixels² by the squared conversion factor.\n",
        "\n",
        "If you have an area of A pixels²:\n",
        "A pixels² × 0.0000714 cm² /pixel² = A × 0.0000714cm²\n",
        ""
      ],
      "metadata": {
        "id": "3vrO35zWv_NV"
      }
    },
    {
      "cell_type": "code",
      "source": [
        "import os\n",
        "\n",
        "# List the contents of the MyDrive directory\n",
        "print(os.listdir('/content/gdrive/MyDrive'))\n",
        "\n",
        "# Navigate to a specific directory if needed\n",
        "# For example:\n",
        "print(os.listdir('/content/gdrive/MyDrive/Note_Danforth/Colab_Notebooks'))"
      ],
      "metadata": {
        "colab": {
          "base_uri": "https://localhost:8080/"
        },
        "id": "38nUk_own6-w",
        "outputId": "c6476f5e-307c-44a9-b12e-a9c2547ad447"
      },
      "execution_count": 13,
      "outputs": [
        {
          "output_type": "stream",
          "name": "stdout",
          "text": [
            "['1_intro.jpg', 'IMG_20221006_141651323_HDR.jpg', 'IMG_20221006_085402472_HDR.jpg', 'Paperpile', 'Note_Danforth', 'Copy of Hybrid lines.gsheet', 'PhotoMari_Website', 'ns_004_heights_fonio.gsheet', '2_MM.png', 'RE_updateApril10.gdoc', 'Fonio_photo1.jpg', 'Fonio_photo2.jpg', 'Fonio_photo3.jpg', 'fonio_website Jake.gdoc', 'IMG_6080.MOV', 'Copy of Seed Bank.xlsx', 'Perso', \"Tracking Jieli's Grad School Apps.xlsx\", 'VID_20230627_100007144.mp4', 'VID_20230627_104859780.mp4', 'Get to know Qs, marie.gdoc', '06_07_2024']\n",
            "['testMR_conversion.csv', 'test_pixel.ipynb', 'Copy of test_pixel.ipynb']\n"
          ]
        }
      ]
    },
    {
      "cell_type": "code",
      "source": [
        "import pandas as pd\n",
        "\n",
        "# Assuming your file is in a directory named 'data' under 'MyDrive'\n",
        "file_path = '/content/gdrive/MyDrive/Note_Danforth/Colab_Notebooks/testMR_conversion.csv'\n",
        "\n",
        "# Read the CSV file\n",
        "df = pd.read_csv(file_path)\n",
        "print(\"File read successfully.\")"
      ],
      "metadata": {
        "colab": {
          "base_uri": "https://localhost:8080/"
        },
        "id": "0GM4nDt1oHlf",
        "outputId": "1f5ff51f-20fc-4cbc-8ad3-48e617e92d78"
      },
      "execution_count": 14,
      "outputs": [
        {
          "output_type": "stream",
          "name": "stdout",
          "text": [
            "File read successfully.\n"
          ]
        }
      ]
    },
    {
      "cell_type": "code",
      "source": [
        "from google.colab import drive\n",
        "import pandas as pd\n",
        "\n",
        "# Function to convert pixels² to cm²\n",
        "def pixels_squared_to_cm_squared(dpi, area_in_pixels):\n",
        "    # Calculate pixels per centimeter\n",
        "    pixels_per_cm = dpi / 2.54\n",
        "\n",
        "    # Calculate the conversion factor for area\n",
        "    conversion_factor = (1 / pixels_per_cm) ** 2\n",
        "\n",
        "    # Convert pixels² to cm²\n",
        "    return area_in_pixels * conversion_factor\n",
        "\n",
        "# Mount Google Drive\n",
        "drive.mount('/content/gdrive')\n",
        "\n",
        "# Specify the path to your CSV file\n",
        "file_path = '/content/gdrive/MyDrive/Note_Danforth/Colab_Notebooks/testMR_conversion.csv'\n",
        "\n",
        "# Read the CSV file\n",
        "df = pd.read_csv(file_path)\n",
        "\n",
        "# Iterate over each row in the DataFrame\n",
        "for index, row in df.iterrows():\n",
        "    # Get the Tube ID and number of depths\n",
        "    tube_id = row['Tube_ID']\n",
        "    num_depths = int(row['Depths'])\n",
        "\n",
        "    # Extract pixel values for each depth\n",
        "    depth_columns = [f'Depth{i}' for i in range(1, num_depths + 1)]\n",
        "    pixel_values = row[depth_columns]\n",
        "\n",
        "    # Initialize results list\n",
        "    results = []\n",
        "\n",
        "    # Process each depth\n",
        "    for depth_value in pixel_values:\n",
        "        # Assuming each depth value is a single number representing the area in pixels\n",
        "        # If it's a width and height, you need to adjust this part accordingly\n",
        "        area_in_pixels = depth_value\n",
        "\n",
        "        # Convert the area\n",
        "        dpi = 300\n",
        "        area_in_cm = pixels_squared_to_cm_squared(dpi, area_in_pixels)\n",
        "\n",
        "        # Append the result\n",
        "        results.append(area_in_cm)\n",
        "\n",
        "    # Print the results for this row\n",
        "    print(f\"Tube ID: {tube_id}\")\n",
        "    for i, result in enumerate(results):\n",
        "        print(f\"Depth {i+1}: Area in cm² = {result:.6f}\")\n",
        "    print()  # Empty line for better readability"
      ],
      "metadata": {
        "colab": {
          "base_uri": "https://localhost:8080/"
        },
        "id": "7z43cZr8odVa",
        "outputId": "ec06b599-6546-428f-b424-e3a3fdb217f4"
      },
      "execution_count": 15,
      "outputs": [
        {
          "output_type": "stream",
          "name": "stdout",
          "text": [
            "Drive already mounted at /content/gdrive; to attempt to forcibly remount, call drive.mount(\"/content/gdrive\", force_remount=True).\n",
            "Tube ID: T520\n",
            "Depth 1: Area in cm² = 2.419493\n",
            "Depth 2: Area in cm² = 1.741789\n",
            "Depth 3: Area in cm² = 0.420429\n",
            "\n",
            "Tube ID: T521\n",
            "Depth 1: Area in cm² = 0.539139\n",
            "Depth 2: Area in cm² = 0.505017\n",
            "Depth 3: Area in cm² = 0.000000\n",
            "\n",
            "Tube ID: T522\n",
            "Depth 1: Area in cm² = 5.664576\n",
            "Depth 2: Area in cm² = 2.439780\n",
            "Depth 3: Area in cm² = 0.000000\n",
            "\n",
            "Tube ID: T523\n",
            "Depth 1: Area in cm² = 2.559135\n",
            "Depth 2: Area in cm² = 0.147312\n",
            "Depth 3: Area in cm² = 0.000000\n",
            "\n",
            "Tube ID: T524\n",
            "Depth 1: Area in cm² = 0.000000\n",
            "Depth 2: Area in cm² = 0.000000\n",
            "Depth 3: Area in cm² = 0.056272\n",
            "\n",
            "Tube ID: T525\n",
            "Depth 1: Area in cm² = 0.000000\n",
            "Depth 2: Area in cm² = 0.000000\n",
            "Depth 3: Area in cm² = 0.042294\n",
            "\n",
            "Tube ID: T526\n",
            "Depth 1: Area in cm² = 6.297478\n",
            "Depth 2: Area in cm² = 9.028799\n",
            "Depth 3: Area in cm² = 5.990024\n",
            "Depth 4: Area in cm² = 2.618489\n",
            "Depth 5: Area in cm² = 0.096487\n",
            "\n",
            "Tube ID: T527\n",
            "Depth 1: Area in cm² = 0.508028\n",
            "Depth 2: Area in cm² = 0.000000\n",
            "Depth 3: Area in cm² = 0.000000\n",
            "\n",
            "Tube ID: T528\n",
            "Depth 1: Area in cm² = 0.555268\n",
            "Depth 2: Area in cm² = 1.405445\n",
            "Depth 3: Area in cm² = 0.272114\n",
            "\n"
          ]
        }
      ]
    },
    {
      "cell_type": "code",
      "source": [
        "from google.colab import drive\n",
        "import pandas as pd\n",
        "\n",
        "# Function to convert pixels² to cm²\n",
        "def pixels_squared_to_cm_squared(dpi, area_in_pixels):\n",
        "    # Calculate pixels per centimeter\n",
        "    pixels_per_cm = dpi / 2.54\n",
        "\n",
        "    # Calculate the conversion factor for area\n",
        "    conversion_factor = (1 / pixels_per_cm) ** 2\n",
        "\n",
        "    # Convert pixels² to cm²\n",
        "    return area_in_pixels * conversion_factor\n",
        "\n",
        "# Mount Google Drive\n",
        "drive.mount('/content/gdrive')\n",
        "\n",
        "# Specify the path to your CSV file\n",
        "file_path = '/content/gdrive/MyDrive/Note_Danforth/Colab_Notebooks/testMR_conversion.csv'\n",
        "\n",
        "# Read the CSV file\n",
        "df = pd.read_csv(file_path)\n",
        "\n",
        "# Create a new DataFrame to store the results\n",
        "result_df = df.copy()\n",
        "\n",
        "# Iterate over each row in the DataFrame\n",
        "for index, row in df.iterrows():\n",
        "    # Get the Tube ID and number of depths\n",
        "    tube_id = row['Tube_ID']\n",
        "    num_depths = int(row['Depths'])\n",
        "\n",
        "    # Extract pixel values for each depth\n",
        "    depth_columns = [f'Depth{i}' for i in range(1, num_depths + 1)]\n",
        "    pixel_values = row[depth_columns]\n",
        "\n",
        "    # Calculate the area for each depth\n",
        "    areas_in_cm = []\n",
        "    for value in pixel_values:\n",
        "        if value > 0:\n",
        "            area_in_pixels = value\n",
        "            area_in_cm = pixels_squared_to_cm_squared(300, area_in_pixels)\n",
        "            areas_in_cm.append(area_in_cm)\n",
        "        else:\n",
        "            areas_in_cm.append(0)\n",
        "\n",
        "    # Update the result DataFrame with the calculated areas\n",
        "    for i, area in enumerate(areas_in_cm):\n",
        "        result_df.at[index, f'Depth{i+1}'] = area\n",
        "\n",
        "# Save the result DataFrame to a new CSV file\n",
        "output_file_path = '/content/gdrive/MyDrive/Note_Danforth/Colab_Notebooks/testMR_conversion_output.csv'\n",
        "result_df.to_csv(output_file_path, index=False)\n",
        "\n",
        "print(\"Output CSV file saved successfully.\")"
      ],
      "metadata": {
        "colab": {
          "base_uri": "https://localhost:8080/"
        },
        "id": "IptKoNaauf9Q",
        "outputId": "33e15f08-2d00-4af4-af4f-07a5033567d2"
      },
      "execution_count": 17,
      "outputs": [
        {
          "output_type": "stream",
          "name": "stdout",
          "text": [
            "Drive already mounted at /content/gdrive; to attempt to forcibly remount, call drive.mount(\"/content/gdrive\", force_remount=True).\n",
            "Output CSV file saved successfully.\n"
          ]
        },
        {
          "output_type": "stream",
          "name": "stderr",
          "text": [
            "<ipython-input-17-83feebe3e429>:49: FutureWarning: Setting an item of incompatible dtype is deprecated and will raise an error in a future version of pandas. Value '2.419493368888888' has dtype incompatible with int64, please explicitly cast to a compatible dtype first.\n",
            "  result_df.at[index, f'Depth{i+1}'] = area\n",
            "<ipython-input-17-83feebe3e429>:49: FutureWarning: Setting an item of incompatible dtype is deprecated and will raise an error in a future version of pandas. Value '1.7417886311111106' has dtype incompatible with int64, please explicitly cast to a compatible dtype first.\n",
            "  result_df.at[index, f'Depth{i+1}'] = area\n",
            "<ipython-input-17-83feebe3e429>:49: FutureWarning: Setting an item of incompatible dtype is deprecated and will raise an error in a future version of pandas. Value '0.4204292666666665' has dtype incompatible with int64, please explicitly cast to a compatible dtype first.\n",
            "  result_df.at[index, f'Depth{i+1}'] = area\n"
          ]
        }
      ]
    }
  ]
}